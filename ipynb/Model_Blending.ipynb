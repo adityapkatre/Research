{
  "cells": [
    {
      "cell_type": "code",
      "execution_count": null,
      "metadata": {
        "id": "ojci_MQZNiE0"
      },
      "outputs": [],
      "source": [
        "# IMPORTANT: SOME KAGGLE DATA SOURCES ARE PRIVATE\n",
        "# RUN THIS CELL IN ORDER TO IMPORT YOUR KAGGLE DATA SOURCES.\n",
        "import kagglehub\n",
        "kagglehub.login()"
      ]
    },
    {
      "cell_type": "code",
      "execution_count": null,
      "metadata": {
        "id": "gcJKY-VONiE2"
      },
      "outputs": [],
      "source": [
        "# IMPORTANT: RUN THIS CELL IN ORDER TO IMPORT YOUR KAGGLE DATA SOURCES,\n",
        "# THEN FEEL FREE TO DELETE THIS CELL.\n",
        "# NOTE: THIS NOTEBOOK ENVIRONMENT DIFFERS FROM KAGGLE'S PYTHON\n",
        "# ENVIRONMENT SO THERE MAY BE MISSING LIBRARIES USED BY YOUR\n",
        "# NOTEBOOK.\n",
        "\n",
        "happy_whale_and_dolphin_path = kagglehub.competition_download('happy-whale-and-dolphin')\n",
        "lukaszborecki_whale_blend_path = kagglehub.dataset_download('lukaszborecki/whale-blend')\n",
        "lextoumbourou_happywhale_tpu_baseline_to_0_804_elasticface_path = kagglehub.notebook_output_download('lextoumbourou/happywhale-tpu-baseline-to-0-804-elasticface')\n",
        "\n",
        "print('Data source import complete.')\n"
      ]
    },
    {
      "cell_type": "code",
      "execution_count": null,
      "metadata": {
        "_cell_guid": "b1076dfc-b9ad-4769-8c92-a6c4dae69d19",
        "_uuid": "8f2839f25d086af736a60e9eeb907d3b93b6e0e5",
        "execution": {
          "iopub.execute_input": "2024-12-22T02:00:06.791273Z",
          "iopub.status.busy": "2024-12-22T02:00:06.790906Z",
          "iopub.status.idle": "2024-12-22T02:00:06.82588Z",
          "shell.execute_reply": "2024-12-22T02:00:06.825032Z",
          "shell.execute_reply.started": "2024-12-22T02:00:06.79117Z"
        },
        "id": "5JwTgd6HNiE3",
        "trusted": true
      },
      "outputs": [],
      "source": [
        "# This Python 3 environment comes with many helpful analytics libraries installed\n",
        "# It is defined by the kaggle/python Docker image: https://github.com/kaggle/docker-python\n",
        "# For example, here's several helpful packages to load\n",
        "\n",
        "import numpy as np # linear algebra\n",
        "import pandas as pd # data processing, CSV file I/O (e.g. pd.read_csv)\n",
        "\n",
        "# Input data files are available in the read-only \"../input/\" directory\n",
        "# For example, running this (by clicking run or pressing Shift+Enter) will list all files under the input directory\n",
        "\n",
        "# import os\n",
        "# for dirname, _, filenames in os.walk('/kaggle/input'):\n",
        "#     for filename in filenames:\n",
        "#         print(os.path.join(dirname, filename))\n",
        "\n",
        "# You can write up to 20GB to the current directory (/kaggle/working/) that gets preserved as output when you create a version using \"Save & Run All\"\n",
        "# You can also write temporary files to /kaggle/temp/, but they won't be saved outside of the current session"
      ]
    },
    {
      "cell_type": "code",
      "execution_count": null,
      "metadata": {
        "execution": {
          "iopub.execute_input": "2024-12-22T02:00:06.828338Z",
          "iopub.status.busy": "2024-12-22T02:00:06.828007Z",
          "iopub.status.idle": "2024-12-22T02:00:07.992995Z",
          "shell.execute_reply": "2024-12-22T02:00:07.992087Z",
          "shell.execute_reply.started": "2024-12-22T02:00:06.828295Z"
        },
        "id": "LWfGN5jTNiE4",
        "outputId": "80774ae7-7587-4853-9c2a-87446f295851",
        "trusted": true
      },
      "outputs": [
        {
          "name": "stdout",
          "output_type": "stream",
          "text": [
            "                image             species individual_id\n",
            "0  00021adfb725ed.jpg  melon_headed_whale  cadddb1636b9\n",
            "1  000562241d384d.jpg      humpback_whale  1a71fbb72250\n",
            "2  0007c33415ce37.jpg  false_killer_whale  60008f293a2b\n",
            "3  0007d9bca26a99.jpg  bottlenose_dolphin  4b00fe572063\n",
            "4  00087baf5cef7a.jpg      humpback_whale  8e5253662392\n"
          ]
        }
      ],
      "source": [
        "freqs = pd.read_csv('/kaggle/input/happy-whale-and-dolphin/train.csv')\n",
        "print(freqs.head())\n",
        "freqs = freqs.groupby(by='individual_id').count()['species']\n",
        "freqs = freqs.reset_index()\n",
        "freqs.columns = ['individual_id','count']\n",
        "freq = {}\n",
        "for i in range(len(freqs)):\n",
        "    freq[freqs.loc[i,'individual_id']]=freqs.loc[i,'count']\n",
        "test = pd.read_csv('/kaggle/input/whale-blend/test.csv', index_col='image')\n",
        "ids = np.load(\"/kaggle/input/whale-blend/ids_without_backfin.npy\", allow_pickle = True)"
      ]
    },
    {
      "cell_type": "code",
      "execution_count": null,
      "metadata": {
        "execution": {
          "iopub.execute_input": "2024-12-22T02:00:07.994276Z",
          "iopub.status.busy": "2024-12-22T02:00:07.994005Z",
          "iopub.status.idle": "2024-12-22T02:00:08.00438Z",
          "shell.execute_reply": "2024-12-22T02:00:08.003398Z",
          "shell.execute_reply.started": "2024-12-22T02:00:07.994246Z"
        },
        "id": "mEbC0VY5NiE6",
        "trusted": true
      },
      "outputs": [],
      "source": [
        "test = test[['species']]"
      ]
    },
    {
      "cell_type": "code",
      "execution_count": null,
      "metadata": {
        "execution": {
          "iopub.execute_input": "2024-12-22T02:00:08.005893Z",
          "iopub.status.busy": "2024-12-22T02:00:08.005624Z",
          "iopub.status.idle": "2024-12-22T02:00:08.081816Z",
          "shell.execute_reply": "2024-12-22T02:00:08.080823Z",
          "shell.execute_reply.started": "2024-12-22T02:00:08.005861Z"
        },
        "id": "GjO60-FlNiE6",
        "trusted": true
      },
      "outputs": [],
      "source": [
        "species = pd.read_csv('/kaggle/input/happy-whale-and-dolphin/train.csv')\n"
      ]
    },
    {
      "cell_type": "code",
      "execution_count": null,
      "metadata": {
        "execution": {
          "iopub.execute_input": "2024-12-22T02:00:08.083503Z",
          "iopub.status.busy": "2024-12-22T02:00:08.083185Z",
          "iopub.status.idle": "2024-12-22T02:00:12.545494Z",
          "shell.execute_reply": "2024-12-22T02:00:12.544467Z",
          "shell.execute_reply.started": "2024-12-22T02:00:08.083462Z"
        },
        "id": "Tsh-X-ILNiE8",
        "trusted": true
      },
      "outputs": [],
      "source": [
        "sub1 = pd.read_csv('/kaggle/input/whale-blend/0-768.csv', index_col='image')\n",
        "sub0 = pd.read_csv('/kaggle/input/whale-blend/f6-10.csv', index_col='image')\n",
        "sub0a = pd.read_csv('/kaggle/input/whale-blend/andrij2.csv', index_col='image')\n",
        "sub1a =  pd.read_csv('/kaggle/input/whale-blend/1-768.csv', index_col='image')\n",
        "sub1b =  pd.read_csv('/kaggle/input/whale-blend/f2-768.csv', index_col='image')\n",
        "# sub1c =  pd.read_csv('/kaggle/input/whale-blend/6-768.csv', index_col='image')\n",
        "sub1c =  pd.read_csv('/kaggle/input/whale-blend/cv8245.csv', index_col='image')\n",
        "sub1d =  pd.read_csv('/kaggle/input/whale-blend/f3-768.csv', index_col='image')\n",
        "sub2 = pd.read_csv('/kaggle/input/whale-blend/5-768.csv', index_col='image')\n",
        "sub3 = pd.read_csv('/kaggle/input/whale-blend/f7a-768.csv', index_col='image')\n",
        "sub4 = pd.read_csv('/kaggle/input/whale-blend/f9-768-AUG.csv', index_col='image')\n",
        "sub5 = pd.read_csv('/kaggle/input/whale-blend/andrij.csv', index_col='image')\n",
        "sub6 = pd.read_csv('/kaggle/input/whale-blend/2-640.csv', index_col='image')\n",
        "sub7 = pd.read_csv('/kaggle/input/whale-blend/3-640.csv', index_col='image')\n",
        "sub8 = pd.read_csv('/kaggle/input/whale-blend/4-640.csv', index_col='image')\n",
        "sub9 = pd.read_csv('/kaggle/input/whale-blend/5-640.csv', index_col='image')\n",
        "sub10 = pd.read_csv('/kaggle/input/whale-blend/6-640-100.csv', index_col='image')\n",
        "sub11 = pd.read_csv('/kaggle/input/whale-blend/7-640.csv', index_col='image')\n",
        "sub12 = pd.read_csv('/kaggle/input/whale-blend/1-480.csv', index_col='image')\n",
        "sub13 = pd.read_csv('/kaggle/input/whale-blend/3-480-200.csv', index_col='image')\n",
        "sub14 = pd.read_csv('/kaggle/input/whale-blend/5-480.csv', index_col='image')\n",
        "sub15 = pd.read_csv('/kaggle/input/whale-blend/6-480.csv', index_col='image')\n",
        "sub16 = pd.read_csv('/kaggle/input/whale-blend/9-480.csv', index_col='image')\n",
        "sub17 = pd.read_csv('/kaggle/input/whale-blend/f4-1024.csv', index_col='image')\n",
        "sub18 = pd.read_csv('/kaggle/input/whale-blend/f8_803_65_786_1.csv.csv', index_col='image')\n",
        "sub19 = pd.read_csv('/kaggle/input/whale-blend/fold0.csv', index_col='image')\n",
        "sub20 = pd.read_csv('/kaggle/input/whale-blend/fold1.csv', index_col='image')\n",
        "sub21 = pd.read_csv('/kaggle/input/whale-blend/fold2.csv', index_col='image')\n",
        "sub22 = pd.read_csv('/kaggle/input/whale-blend/fold3.csv', index_col='image')\n",
        "sub23 = pd.read_csv('/kaggle/input/whale-blend/fold4.csv', index_col='image')\n",
        "sub24 = pd.read_csv('/kaggle/input/whale-blend/full.csv', index_col='image')\n",
        "sub25 = pd.read_csv('/kaggle/input/whale-blend/full480.csv', index_col='image')\n",
        "sub26 = pd.read_csv('/kaggle/input/whale-blend/full320.csv', index_col='image')\n",
        "sub27 = pd.read_csv('/kaggle/input/whale-blend/conv320.csv', index_col='image')\n",
        "sub28 = pd.read_csv('/kaggle/input/whale-blend/subback1_1.csv', index_col='image')\n",
        "sub29 = pd.read_csv('/kaggle/input/whale-blend/subback2_1.csv', index_col='image')\n",
        "sub30 = pd.read_csv('/kaggle/input/whale-blend/subback3.csv', index_col='image')\n",
        "sub31 = pd.read_csv('/kaggle/input/whale-blend/subback4_1.csv', index_col='image')\n",
        "sub32 = pd.read_csv('/kaggle/input/whale-blend/subback5_1.csv', index_col='image')\n",
        "sub33 = pd.read_csv('/kaggle/input/whale-blend/andrij_emb_blend.csv', index_col='image')\n",
        "sub34 = pd.read_csv('/kaggle/input/whale-blend/belug.csv', index_col='image')\n",
        "sub35 = pd.read_csv('/kaggle/input/whale-blend/fullbody.csv', index_col='image')\n",
        "sub36 = pd.read_csv('/kaggle/input/whale-blend/fb2.csv', index_col='image')\n",
        "sub37 = pd.read_csv('/kaggle/input/whale-blend/fullfb.csv', index_col='image')\n",
        "sub38 = pd.read_csv('/kaggle/input/happywhale-tpu-baseline-to-0-804-elasticface/submission.csv', index_col='image')\n",
        "\n",
        "\n",
        "\n",
        "\n",
        "\n"
      ]
    },
    {
      "cell_type": "code",
      "execution_count": null,
      "metadata": {
        "execution": {
          "iopub.execute_input": "2024-12-22T02:00:12.547193Z",
          "iopub.status.busy": "2024-12-22T02:00:12.546903Z",
          "iopub.status.idle": "2024-12-22T02:00:12.928348Z",
          "shell.execute_reply": "2024-12-22T02:00:12.927415Z",
          "shell.execute_reply.started": "2024-12-22T02:00:12.547156Z"
        },
        "id": "M6xrBdO8NiE8",
        "trusted": true
      },
      "outputs": [],
      "source": [
        "subs = [sub38,sub34, sub35,sub36,sub37,sub1,sub0,sub0a, sub1b,sub1c,sub4,sub5,sub6,sub10,sub17,sub18,sub19,sub20,sub21,sub22,sub23,sub24,sub25,sub27,sub28,sub29,sub30,sub31,sub32,sub33]\n",
        "for i,sub in enumerate(subs):\n",
        "    test['prediction'+chr(i+0x41)] = sub['predictions']\n",
        "test=test.reset_index()\n"
      ]
    },
    {
      "cell_type": "code",
      "execution_count": null,
      "metadata": {
        "execution": {
          "iopub.execute_input": "2024-12-22T02:00:12.930698Z",
          "iopub.status.busy": "2024-12-22T02:00:12.930459Z",
          "iopub.status.idle": "2024-12-22T02:00:12.938485Z",
          "shell.execute_reply": "2024-12-22T02:00:12.937536Z",
          "shell.execute_reply.started": "2024-12-22T02:00:12.930667Z"
        },
        "id": "TNxHlqDKNiE9",
        "outputId": "99522bdc-6ec8-424f-d5ca-3b629852871d",
        "trusted": true
      },
      "outputs": [
        {
          "data": {
            "text/plain": [
              "30"
            ]
          },
          "execution_count": 7,
          "metadata": {},
          "output_type": "execute_result"
        }
      ],
      "source": [
        "len(subs)"
      ]
    },
    {
      "cell_type": "code",
      "execution_count": null,
      "metadata": {
        "execution": {
          "iopub.execute_input": "2024-12-22T02:00:12.939791Z",
          "iopub.status.busy": "2024-12-22T02:00:12.939592Z",
          "iopub.status.idle": "2024-12-22T02:00:12.95413Z",
          "shell.execute_reply": "2024-12-22T02:00:12.952999Z",
          "shell.execute_reply.started": "2024-12-22T02:00:12.939767Z"
        },
        "id": "0iRCgcU0NiE-",
        "outputId": "80b2dccd-44bf-46ba-b4f5-b8649a222564",
        "trusted": true
      },
      "outputs": [
        {
          "data": {
            "text/plain": [
              "30"
            ]
          },
          "execution_count": 8,
          "metadata": {},
          "output_type": "execute_result"
        }
      ],
      "source": [
        "len([9,1,1.5,1,1,1,1.1,1,1,1,1.1,0.99,0.99,0.99,1,1,0.99,0.99,0.99,0.99,0.99,3,1,0.8,1.4,1.4,1.1,1.4,1.4,1.4])"
      ]
    },
    {
      "cell_type": "code",
      "execution_count": null,
      "metadata": {
        "execution": {
          "iopub.execute_input": "2024-12-22T02:00:12.955427Z",
          "iopub.status.busy": "2024-12-22T02:00:12.9552Z",
          "iopub.status.idle": "2024-12-22T02:00:12.989396Z",
          "shell.execute_reply": "2024-12-22T02:00:12.988528Z",
          "shell.execute_reply.started": "2024-12-22T02:00:12.955399Z"
        },
        "id": "Vk_PhjHwNiE-",
        "outputId": "fef298ac-01cc-42f5-9257-cf8453b39f99",
        "trusted": true
      },
      "outputs": [
        {
          "data": {
            "text/html": [
              "<div>\n",
              "<style scoped>\n",
              "    .dataframe tbody tr th:only-of-type {\n",
              "        vertical-align: middle;\n",
              "    }\n",
              "\n",
              "    .dataframe tbody tr th {\n",
              "        vertical-align: top;\n",
              "    }\n",
              "\n",
              "    .dataframe thead th {\n",
              "        text-align: right;\n",
              "    }\n",
              "</style>\n",
              "<table border=\"1\" class=\"dataframe\">\n",
              "  <thead>\n",
              "    <tr style=\"text-align: right;\">\n",
              "      <th></th>\n",
              "      <th>image</th>\n",
              "      <th>species</th>\n",
              "      <th>predictionA</th>\n",
              "      <th>predictionB</th>\n",
              "      <th>predictionC</th>\n",
              "      <th>predictionD</th>\n",
              "      <th>predictionE</th>\n",
              "      <th>predictionF</th>\n",
              "      <th>predictionG</th>\n",
              "      <th>predictionH</th>\n",
              "      <th>...</th>\n",
              "      <th>predictionU</th>\n",
              "      <th>predictionV</th>\n",
              "      <th>predictionW</th>\n",
              "      <th>predictionX</th>\n",
              "      <th>predictionY</th>\n",
              "      <th>predictionZ</th>\n",
              "      <th>prediction[</th>\n",
              "      <th>prediction\\</th>\n",
              "      <th>prediction]</th>\n",
              "      <th>prediction^</th>\n",
              "    </tr>\n",
              "  </thead>\n",
              "  <tbody>\n",
              "    <tr>\n",
              "      <th>0</th>\n",
              "      <td>000110707af0ba.jpg</td>\n",
              "      <td>gray_whale</td>\n",
              "      <td>fbe2b15b5481 new_individual eb0baf84857e 5dc51...</td>\n",
              "      <td>fbe2b15b5481 new_individual 54a19a45715c 574bd...</td>\n",
              "      <td>fbe2b15b5481 new_individual 574bd81ec992 6d1cc...</td>\n",
              "      <td>fbe2b15b5481 new_individual 574bd81ec992 5b1c9...</td>\n",
              "      <td>fbe2b15b5481 new_individual 613d4dd25716 574bd...</td>\n",
              "      <td>fbe2b15b5481 new_individual 19a3c802a432 5a199...</td>\n",
              "      <td>fbe2b15b5481 new_individual 6f4abc5666cd 574bd...</td>\n",
              "      <td>fbe2b15b5481 new_individual 6d1cc6d00dca 613d4...</td>\n",
              "      <td>...</td>\n",
              "      <td>fbe2b15b5481 new_individual a98b1472d670 55770...</td>\n",
              "      <td>fbe2b15b5481 new_individual 613d4dd25716 49fd7...</td>\n",
              "      <td>fbe2b15b5481 new_individual 0a8709a3df9e 20312...</td>\n",
              "      <td>fbe2b15b5481 new_individual c2650e35b798 19a3c...</td>\n",
              "      <td>fbe2b15b5481 613d4dd25716 5a199d197c45 574bd81...</td>\n",
              "      <td>fbe2b15b5481 613d4dd25716 5a199d197c45 574bd81...</td>\n",
              "      <td>fbe2b15b5481 613d4dd25716 5a199d197c45 574bd81...</td>\n",
              "      <td>fbe2b15b5481 613d4dd25716 5a199d197c45 574bd81...</td>\n",
              "      <td>fbe2b15b5481 613d4dd25716 5a199d197c45 574bd81...</td>\n",
              "      <td>fbe2b15b5481 613d4dd25716 5a199d197c45 574bd81...</td>\n",
              "    </tr>\n",
              "    <tr>\n",
              "      <th>1</th>\n",
              "      <td>0006287ec424cb.jpg</td>\n",
              "      <td>humpback_whale</td>\n",
              "      <td>1424c7fec826 new_individual c3b7d902e73c 85ff7...</td>\n",
              "      <td>1424c7fec826 new_individual c3b7d902e73c 52b9a...</td>\n",
              "      <td>1424c7fec826 new_individual 57580d440071 2a024...</td>\n",
              "      <td>1424c7fec826 new_individual c3b7d902e73c c48d5...</td>\n",
              "      <td>1424c7fec826 new_individual c3b7d902e73c 1620c...</td>\n",
              "      <td>1424c7fec826 new_individual c3b7d902e73c 69d7b...</td>\n",
              "      <td>1424c7fec826 new_individual f0efb5bcc5d3 c3b7d...</td>\n",
              "      <td>1424c7fec826 new_individual fe557f562fdb 2a024...</td>\n",
              "      <td>...</td>\n",
              "      <td>1424c7fec826 new_individual c3b7d902e73c bd1a1...</td>\n",
              "      <td>1424c7fec826 new_individual 69d7ba3ee8f3 b9a7d...</td>\n",
              "      <td>1424c7fec826 new_individual a24941c8a530 173e1...</td>\n",
              "      <td>1424c7fec826 new_individual faf6954035f3 2b6cc...</td>\n",
              "      <td>1424c7fec826 new_individual c3b7d902e73c 3f701...</td>\n",
              "      <td>1424c7fec826 new_individual 3f70120fff3a de977...</td>\n",
              "      <td>1424c7fec826 new_individual c3b7d902e73c 85ff7...</td>\n",
              "      <td>1424c7fec826 new_individual 3f70120fff3a e72a5...</td>\n",
              "      <td>1424c7fec826 new_individual c3b7d902e73c 3f701...</td>\n",
              "      <td>1424c7fec826 new_individual 3f70120fff3a de977...</td>\n",
              "    </tr>\n",
              "    <tr>\n",
              "      <th>2</th>\n",
              "      <td>000809ecb2ccad.jpg</td>\n",
              "      <td>beluga</td>\n",
              "      <td>1ce3ba6a3c29 new_individual 82f26bb1adae b8125...</td>\n",
              "      <td>1ce3ba6a3c29 new_individual b8125d90d68e dd6db...</td>\n",
              "      <td>1ce3ba6a3c29 new_individual 7154d2fa1232 d3ced...</td>\n",
              "      <td>1ce3ba6a3c29 new_individual b8125d90d68e 7154d...</td>\n",
              "      <td>1ce3ba6a3c29 new_individual 82f26bb1adae 6637d...</td>\n",
              "      <td>1ce3ba6a3c29 new_individual 79c94459ece0 510a8...</td>\n",
              "      <td>1ce3ba6a3c29 new_individual 656a2627a5bd cee0b...</td>\n",
              "      <td>1ce3ba6a3c29 new_individual 82f26bb1adae 25ab3...</td>\n",
              "      <td>...</td>\n",
              "      <td>1ce3ba6a3c29 new_individual 25ab36d404b7 d3ced...</td>\n",
              "      <td>1ce3ba6a3c29 new_individual 82f26bb1adae 7e458...</td>\n",
              "      <td>d3cedf439859 new_individual 263b0eae065e 1ce3b...</td>\n",
              "      <td>1ce3ba6a3c29 new_individual 82f26bb1adae 25ab3...</td>\n",
              "      <td>1ce3ba6a3c29 82f26bb1adae 25ab36d404b7 d3cedf4...</td>\n",
              "      <td>1ce3ba6a3c29 82f26bb1adae 25ab36d404b7 d3cedf4...</td>\n",
              "      <td>1ce3ba6a3c29 82f26bb1adae 25ab36d404b7 d3cedf4...</td>\n",
              "      <td>1ce3ba6a3c29 82f26bb1adae 25ab36d404b7 d3cedf4...</td>\n",
              "      <td>1ce3ba6a3c29 82f26bb1adae 25ab36d404b7 d3cedf4...</td>\n",
              "      <td>1ce3ba6a3c29 82f26bb1adae 25ab36d404b7 d3cedf4...</td>\n",
              "    </tr>\n",
              "    <tr>\n",
              "      <th>3</th>\n",
              "      <td>00098d1376dab2.jpg</td>\n",
              "      <td>humpback_whale</td>\n",
              "      <td>c4274d90be60 new_individual 69c3563783a9 164b7...</td>\n",
              "      <td>c4274d90be60 new_individual 164b7f79dcb7 6ad37...</td>\n",
              "      <td>c4274d90be60 new_individual 164b7f79dcb7 69c35...</td>\n",
              "      <td>c4274d90be60 new_individual 164b7f79dcb7 ecf24...</td>\n",
              "      <td>c4274d90be60 new_individual 255aee7972fb 69c35...</td>\n",
              "      <td>c4274d90be60 new_individual c0da494318e0 197df...</td>\n",
              "      <td>c4274d90be60 new_individual 69c3563783a9 164b7...</td>\n",
              "      <td>c4274d90be60 new_individual 483c15836135 3d22c...</td>\n",
              "      <td>...</td>\n",
              "      <td>c4274d90be60 new_individual 43946ac5a865 27be9...</td>\n",
              "      <td>c4274d90be60 new_individual e7c931bc003e a8770...</td>\n",
              "      <td>c4274d90be60 new_individual 2f2e8ad67cc9 8a8c4...</td>\n",
              "      <td>c4274d90be60 new_individual e33e73f5991a a8770...</td>\n",
              "      <td>c4274d90be60 e7c931bc003e 69c3563783a9 e33e73f...</td>\n",
              "      <td>c4274d90be60 e7c931bc003e 69c3563783a9 e33e73f...</td>\n",
              "      <td>c4274d90be60 e7c931bc003e 69c3563783a9 e33e73f...</td>\n",
              "      <td>c4274d90be60 e7c931bc003e 69c3563783a9 e33e73f...</td>\n",
              "      <td>c4274d90be60 e7c931bc003e 69c3563783a9 e33e73f...</td>\n",
              "      <td>c4274d90be60 e7c931bc003e 69c3563783a9 e33e73f...</td>\n",
              "    </tr>\n",
              "    <tr>\n",
              "      <th>4</th>\n",
              "      <td>000b8d89c738bd.jpg</td>\n",
              "      <td>dusky_dolphin</td>\n",
              "      <td>cf500d3874bc new_individual 56637d420170 c88cb...</td>\n",
              "      <td>cf500d3874bc new_individual d4d2cd407a48 27403...</td>\n",
              "      <td>new_individual d4d2cd407a48 cf500d3874bc 56637...</td>\n",
              "      <td>new_individual cf500d3874bc e3aa9ced8208 d78fe...</td>\n",
              "      <td>new_individual cf500d3874bc d4d2cd407a48 56637...</td>\n",
              "      <td>new_individual cf500d3874bc 2ff676fd700f e8638...</td>\n",
              "      <td>new_individual cf500d3874bc 2ff676fd700f 030a2...</td>\n",
              "      <td>cf500d3874bc new_individual 54f317cffc55 bcc45...</td>\n",
              "      <td>...</td>\n",
              "      <td>new_individual fb8a0ec8ec55 99aaf652dd70 d4d2c...</td>\n",
              "      <td>cf500d3874bc new_individual c88cb1224033 2ff67...</td>\n",
              "      <td>cf500d3874bc new_individual 56637d420170 e3aa9...</td>\n",
              "      <td>new_individual cf500d3874bc 6e63164ec1ee d4d2c...</td>\n",
              "      <td>cf500d3874bc new_individual e8638c0a16b9 b4e86...</td>\n",
              "      <td>cf500d3874bc new_individual 2a23a3a709b0 4d18b...</td>\n",
              "      <td>new_individual cf500d3874bc 030a25c6102b a8bdd...</td>\n",
              "      <td>new_individual cf500d3874bc 4d18b20adff3 ba7ee...</td>\n",
              "      <td>new_individual cf500d3874bc d4d2cd407a48 ef2bf...</td>\n",
              "      <td>cf500d3874bc new_individual 4d18b20adff3 ba7ee...</td>\n",
              "    </tr>\n",
              "  </tbody>\n",
              "</table>\n",
              "<p>5 rows × 32 columns</p>\n",
              "</div>"
            ],
            "text/plain": [
              "                image         species  \\\n",
              "0  000110707af0ba.jpg      gray_whale   \n",
              "1  0006287ec424cb.jpg  humpback_whale   \n",
              "2  000809ecb2ccad.jpg          beluga   \n",
              "3  00098d1376dab2.jpg  humpback_whale   \n",
              "4  000b8d89c738bd.jpg   dusky_dolphin   \n",
              "\n",
              "                                         predictionA  \\\n",
              "0  fbe2b15b5481 new_individual eb0baf84857e 5dc51...   \n",
              "1  1424c7fec826 new_individual c3b7d902e73c 85ff7...   \n",
              "2  1ce3ba6a3c29 new_individual 82f26bb1adae b8125...   \n",
              "3  c4274d90be60 new_individual 69c3563783a9 164b7...   \n",
              "4  cf500d3874bc new_individual 56637d420170 c88cb...   \n",
              "\n",
              "                                         predictionB  \\\n",
              "0  fbe2b15b5481 new_individual 54a19a45715c 574bd...   \n",
              "1  1424c7fec826 new_individual c3b7d902e73c 52b9a...   \n",
              "2  1ce3ba6a3c29 new_individual b8125d90d68e dd6db...   \n",
              "3  c4274d90be60 new_individual 164b7f79dcb7 6ad37...   \n",
              "4  cf500d3874bc new_individual d4d2cd407a48 27403...   \n",
              "\n",
              "                                         predictionC  \\\n",
              "0  fbe2b15b5481 new_individual 574bd81ec992 6d1cc...   \n",
              "1  1424c7fec826 new_individual 57580d440071 2a024...   \n",
              "2  1ce3ba6a3c29 new_individual 7154d2fa1232 d3ced...   \n",
              "3  c4274d90be60 new_individual 164b7f79dcb7 69c35...   \n",
              "4  new_individual d4d2cd407a48 cf500d3874bc 56637...   \n",
              "\n",
              "                                         predictionD  \\\n",
              "0  fbe2b15b5481 new_individual 574bd81ec992 5b1c9...   \n",
              "1  1424c7fec826 new_individual c3b7d902e73c c48d5...   \n",
              "2  1ce3ba6a3c29 new_individual b8125d90d68e 7154d...   \n",
              "3  c4274d90be60 new_individual 164b7f79dcb7 ecf24...   \n",
              "4  new_individual cf500d3874bc e3aa9ced8208 d78fe...   \n",
              "\n",
              "                                         predictionE  \\\n",
              "0  fbe2b15b5481 new_individual 613d4dd25716 574bd...   \n",
              "1  1424c7fec826 new_individual c3b7d902e73c 1620c...   \n",
              "2  1ce3ba6a3c29 new_individual 82f26bb1adae 6637d...   \n",
              "3  c4274d90be60 new_individual 255aee7972fb 69c35...   \n",
              "4  new_individual cf500d3874bc d4d2cd407a48 56637...   \n",
              "\n",
              "                                         predictionF  \\\n",
              "0  fbe2b15b5481 new_individual 19a3c802a432 5a199...   \n",
              "1  1424c7fec826 new_individual c3b7d902e73c 69d7b...   \n",
              "2  1ce3ba6a3c29 new_individual 79c94459ece0 510a8...   \n",
              "3  c4274d90be60 new_individual c0da494318e0 197df...   \n",
              "4  new_individual cf500d3874bc 2ff676fd700f e8638...   \n",
              "\n",
              "                                         predictionG  \\\n",
              "0  fbe2b15b5481 new_individual 6f4abc5666cd 574bd...   \n",
              "1  1424c7fec826 new_individual f0efb5bcc5d3 c3b7d...   \n",
              "2  1ce3ba6a3c29 new_individual 656a2627a5bd cee0b...   \n",
              "3  c4274d90be60 new_individual 69c3563783a9 164b7...   \n",
              "4  new_individual cf500d3874bc 2ff676fd700f 030a2...   \n",
              "\n",
              "                                         predictionH  ...  \\\n",
              "0  fbe2b15b5481 new_individual 6d1cc6d00dca 613d4...  ...   \n",
              "1  1424c7fec826 new_individual fe557f562fdb 2a024...  ...   \n",
              "2  1ce3ba6a3c29 new_individual 82f26bb1adae 25ab3...  ...   \n",
              "3  c4274d90be60 new_individual 483c15836135 3d22c...  ...   \n",
              "4  cf500d3874bc new_individual 54f317cffc55 bcc45...  ...   \n",
              "\n",
              "                                         predictionU  \\\n",
              "0  fbe2b15b5481 new_individual a98b1472d670 55770...   \n",
              "1  1424c7fec826 new_individual c3b7d902e73c bd1a1...   \n",
              "2  1ce3ba6a3c29 new_individual 25ab36d404b7 d3ced...   \n",
              "3  c4274d90be60 new_individual 43946ac5a865 27be9...   \n",
              "4  new_individual fb8a0ec8ec55 99aaf652dd70 d4d2c...   \n",
              "\n",
              "                                         predictionV  \\\n",
              "0  fbe2b15b5481 new_individual 613d4dd25716 49fd7...   \n",
              "1  1424c7fec826 new_individual 69d7ba3ee8f3 b9a7d...   \n",
              "2  1ce3ba6a3c29 new_individual 82f26bb1adae 7e458...   \n",
              "3  c4274d90be60 new_individual e7c931bc003e a8770...   \n",
              "4  cf500d3874bc new_individual c88cb1224033 2ff67...   \n",
              "\n",
              "                                         predictionW  \\\n",
              "0  fbe2b15b5481 new_individual 0a8709a3df9e 20312...   \n",
              "1  1424c7fec826 new_individual a24941c8a530 173e1...   \n",
              "2  d3cedf439859 new_individual 263b0eae065e 1ce3b...   \n",
              "3  c4274d90be60 new_individual 2f2e8ad67cc9 8a8c4...   \n",
              "4  cf500d3874bc new_individual 56637d420170 e3aa9...   \n",
              "\n",
              "                                         predictionX  \\\n",
              "0  fbe2b15b5481 new_individual c2650e35b798 19a3c...   \n",
              "1  1424c7fec826 new_individual faf6954035f3 2b6cc...   \n",
              "2  1ce3ba6a3c29 new_individual 82f26bb1adae 25ab3...   \n",
              "3  c4274d90be60 new_individual e33e73f5991a a8770...   \n",
              "4  new_individual cf500d3874bc 6e63164ec1ee d4d2c...   \n",
              "\n",
              "                                         predictionY  \\\n",
              "0  fbe2b15b5481 613d4dd25716 5a199d197c45 574bd81...   \n",
              "1  1424c7fec826 new_individual c3b7d902e73c 3f701...   \n",
              "2  1ce3ba6a3c29 82f26bb1adae 25ab36d404b7 d3cedf4...   \n",
              "3  c4274d90be60 e7c931bc003e 69c3563783a9 e33e73f...   \n",
              "4  cf500d3874bc new_individual e8638c0a16b9 b4e86...   \n",
              "\n",
              "                                         predictionZ  \\\n",
              "0  fbe2b15b5481 613d4dd25716 5a199d197c45 574bd81...   \n",
              "1  1424c7fec826 new_individual 3f70120fff3a de977...   \n",
              "2  1ce3ba6a3c29 82f26bb1adae 25ab36d404b7 d3cedf4...   \n",
              "3  c4274d90be60 e7c931bc003e 69c3563783a9 e33e73f...   \n",
              "4  cf500d3874bc new_individual 2a23a3a709b0 4d18b...   \n",
              "\n",
              "                                         prediction[  \\\n",
              "0  fbe2b15b5481 613d4dd25716 5a199d197c45 574bd81...   \n",
              "1  1424c7fec826 new_individual c3b7d902e73c 85ff7...   \n",
              "2  1ce3ba6a3c29 82f26bb1adae 25ab36d404b7 d3cedf4...   \n",
              "3  c4274d90be60 e7c931bc003e 69c3563783a9 e33e73f...   \n",
              "4  new_individual cf500d3874bc 030a25c6102b a8bdd...   \n",
              "\n",
              "                                         prediction\\  \\\n",
              "0  fbe2b15b5481 613d4dd25716 5a199d197c45 574bd81...   \n",
              "1  1424c7fec826 new_individual 3f70120fff3a e72a5...   \n",
              "2  1ce3ba6a3c29 82f26bb1adae 25ab36d404b7 d3cedf4...   \n",
              "3  c4274d90be60 e7c931bc003e 69c3563783a9 e33e73f...   \n",
              "4  new_individual cf500d3874bc 4d18b20adff3 ba7ee...   \n",
              "\n",
              "                                         prediction]  \\\n",
              "0  fbe2b15b5481 613d4dd25716 5a199d197c45 574bd81...   \n",
              "1  1424c7fec826 new_individual c3b7d902e73c 3f701...   \n",
              "2  1ce3ba6a3c29 82f26bb1adae 25ab36d404b7 d3cedf4...   \n",
              "3  c4274d90be60 e7c931bc003e 69c3563783a9 e33e73f...   \n",
              "4  new_individual cf500d3874bc d4d2cd407a48 ef2bf...   \n",
              "\n",
              "                                         prediction^  \n",
              "0  fbe2b15b5481 613d4dd25716 5a199d197c45 574bd81...  \n",
              "1  1424c7fec826 new_individual 3f70120fff3a de977...  \n",
              "2  1ce3ba6a3c29 82f26bb1adae 25ab36d404b7 d3cedf4...  \n",
              "3  c4274d90be60 e7c931bc003e 69c3563783a9 e33e73f...  \n",
              "4  cf500d3874bc new_individual 4d18b20adff3 ba7ee...  \n",
              "\n",
              "[5 rows x 32 columns]"
            ]
          },
          "execution_count": 9,
          "metadata": {},
          "output_type": "execute_result"
        }
      ],
      "source": [
        "test.head()\n",
        "# sub1.fillna('new_individual new_individual new_individual new_individual new_individual',inplace=True)"
      ]
    },
    {
      "cell_type": "code",
      "execution_count": null,
      "metadata": {
        "execution": {
          "iopub.execute_input": "2024-12-22T02:00:12.990922Z",
          "iopub.status.busy": "2024-12-22T02:00:12.990628Z",
          "iopub.status.idle": "2024-12-22T02:00:13.00687Z",
          "shell.execute_reply": "2024-12-22T02:00:13.005945Z",
          "shell.execute_reply.started": "2024-12-22T02:00:12.990884Z"
        },
        "id": "jWsNXOYBNiE_",
        "trusted": true
      },
      "outputs": [],
      "source": [
        "def blender(weights, coefs):\n",
        "    res = {}\n",
        "    temp = []\n",
        "    blend = ''\n",
        "    ratios = []\n",
        "    for k, (weight,coef) in enumerate(zip(weights[2:],coefs)):\n",
        "        if weights[1] in ids and k>23:\n",
        "            pass\n",
        "        else:\n",
        "            for i in range(5):\n",
        "\n",
        "                if weight[i]!='new_individual':\n",
        "                    res[weight[i]]=res.get(weight[i],0)+blend_weights2(i)*coef-coef*freq.get(weight[i],0)/30\n",
        "\n",
        "\n",
        "                else:\n",
        "                    if i == 0:\n",
        "                        res[weight[i]]=res.get(weight[i],0)+(blend_weights2(i)-4.9)*coef\n",
        "                    elif i ==1:\n",
        "                        res[weight[i]]=res.get(weight[i],0)+(blend_weights2(i)-4.9)*coef\n",
        "                    else:\n",
        "                        res[weight[i]]=res.get(weight[i],0)+(blend_weights2(i)-2.5)*coef\n",
        "\n",
        "\n",
        "\n",
        "\n",
        "    sorted_res = sorted(res.items(),reverse=True, key = lambda kv: kv[1])\n",
        "    for item in sorted_res:\n",
        "        temp.append(item[0])\n",
        "        ratios.append(item[1])\n",
        "#     temp = temp[1]\n",
        "    if ratios[0]-ratios[1]<5 and temp[0]=='new_individual':\n",
        "        temp[0],temp[1]=temp[1],temp[0]\n",
        "    blend = ' '.join(temp)\n",
        "    return blend\n",
        "def blend_ratio(weights, coefs):\n",
        "    res = {}\n",
        "    temp = []\n",
        "    for weight,coef in zip(weights,coefs):\n",
        "        for i in range(5):\n",
        "            if weight[i]!='new_individual':\n",
        "                res[weight[i]]=res.get(weight[i],0)+blend_weights2(i)*coef\n",
        "            else:\n",
        "                res[weight[i]]=res.get(weight[i],0)+(blend_weights2(i)-4)*coef\n",
        "    sorted_res = sorted(res.items(),reverse=True, key = lambda kv: kv[1])\n",
        "    for item in sorted_res:\n",
        "        temp.append(item[1])\n",
        "    return temp[1]/temp[0]"
      ]
    },
    {
      "cell_type": "code",
      "execution_count": null,
      "metadata": {
        "execution": {
          "iopub.execute_input": "2024-12-22T02:00:13.00822Z",
          "iopub.status.busy": "2024-12-22T02:00:13.007952Z",
          "iopub.status.idle": "2024-12-22T02:00:13.021921Z",
          "shell.execute_reply": "2024-12-22T02:00:13.021168Z",
          "shell.execute_reply.started": "2024-12-22T02:00:13.008189Z"
        },
        "id": "uYFbDp1GNiE_",
        "trusted": true
      },
      "outputs": [],
      "source": [
        "# sub1 = pd.merge(sub1,sub2, how='outer', on='image')\n",
        "# sub1 = pd.merge(sub1,sub3, how='outer', on='image')\n",
        "# sub1.columns = ['image','predictions_x','predictions_y','predictions_z']\n",
        "# sub1 = pd.merge(sub1,sub4, how='outer', on='image')\n",
        "# sub1.columns = ['image','predictions_x','predictions_y','predictions_z', 'predictions_w']\n",
        "# sub1 = pd.merge(sub1,sub5, how='outer', on='image')\n",
        "# sub1.columns = ['image','predictions_x','predictions_y','predictions_z', 'predictions_w', 'predictions_v']\n",
        "# sub1 = pd.merge(sub1,sub6, how='outer', on='image')\n",
        "# sub1.columns = ['image','predictions_x','predictions_y','predictions_z', 'predictions_w', 'predictions_v',  'predictions_t']"
      ]
    },
    {
      "cell_type": "code",
      "execution_count": null,
      "metadata": {
        "execution": {
          "iopub.execute_input": "2024-12-22T02:00:13.02372Z",
          "iopub.status.busy": "2024-12-22T02:00:13.023403Z",
          "iopub.status.idle": "2024-12-22T02:00:13.039163Z",
          "shell.execute_reply": "2024-12-22T02:00:13.038177Z",
          "shell.execute_reply.started": "2024-12-22T02:00:13.023673Z"
        },
        "id": "fEPNqo6TNiE_",
        "trusted": true
      },
      "outputs": [],
      "source": [
        "def blend_weights(num):\n",
        "    mapper = {0:10,1:4,2:8,3:6,4:3}\n",
        "    return mapper[num]\n",
        "def blend_weights2(num):\n",
        "    mapper = {0:10,1:6.5,2:3.3,3:2.9,4:2.7,5:2.6,6:2.5,7:2.2,8:1.9,9:1.5}\n",
        "    return mapper[num]\n",
        "def check_beluga(ind):\n",
        "    return species.loc[species.individual_id==ind, 'species'].min()=='beluga'\n",
        "\n",
        "# def blend_weights_trans(num):\n",
        "#     mapper = {0:2,1:10,2:4,3:3,4:2}\n",
        "#     return mapper[num]"
      ]
    },
    {
      "cell_type": "code",
      "execution_count": null,
      "metadata": {
        "execution": {
          "iopub.execute_input": "2024-12-22T02:00:13.040968Z",
          "iopub.status.busy": "2024-12-22T02:00:13.040633Z",
          "iopub.status.idle": "2024-12-22T02:03:05.795022Z",
          "shell.execute_reply": "2024-12-22T02:03:05.794193Z",
          "shell.execute_reply.started": "2024-12-22T02:00:13.040926Z"
        },
        "id": "igr7jH59NiE_",
        "trusted": true
      },
      "outputs": [],
      "source": [
        "test['predictions'] = test.apply(lambda row: blender([row[1].split(),row[0],row[2].split(),row[3].split(),row[4].split(),row[5].split(),row[6].split(),row[7].split(),row[8].split(),row[9].split(),row[10].split(),row[11].split(),row[12].split(),row[13].split(),row[14].split(),row[15].split(),row[16].split(),row[17].split(),row[18].split(),row[19].split(),row[20].split(),row[21].split(),row[22].split(),row[23].split(),row[24].split(),row[25].split(),row[26].split(),row[27].split(),row[28].split(),row[29].split(),row[30].split(),row[31].split()], [25,7,1.5,1,6,1,1.5,1,1,1,1,0.99,0.99,0.99,1,1,0.99,0.99,0.99,0.99,0.99,4,1,0.8,1.4,1.4,1.4,1.4,1.4,1.4]), axis=1)\n",
        "# sub1['ratio'] = sub1.apply(lambda row: blend_ratio([row[1].split(),row[2].split(),row[3].split(),row[4].split(),row[5].split(),row[6].split(),row[7].split(),row[8].split(),row[9].split(),row[10].split()], [0.9,0.9,0.9,1,0.75,0.9,1,0.75,0.75,0.9]), axis=1)"
      ]
    },
    {
      "cell_type": "code",
      "execution_count": null,
      "metadata": {
        "execution": {
          "iopub.execute_input": "2024-12-22T02:03:05.796463Z",
          "iopub.status.busy": "2024-12-22T02:03:05.796221Z",
          "iopub.status.idle": "2024-12-22T02:03:05.941554Z",
          "shell.execute_reply": "2024-12-22T02:03:05.940589Z",
          "shell.execute_reply.started": "2024-12-22T02:03:05.796433Z"
        },
        "id": "49BzLOgfNiE_",
        "outputId": "f9c6164c-1975-4b31-a0f4-71f02d573d7d",
        "trusted": true
      },
      "outputs": [
        {
          "name": "stdout",
          "output_type": "stream",
          "text": [
            "<class 'pandas.core.frame.DataFrame'>\n",
            "RangeIndex: 27956 entries, 0 to 27955\n",
            "Data columns (total 33 columns):\n",
            " #   Column       Non-Null Count  Dtype \n",
            "---  ------       --------------  ----- \n",
            " 0   image        27956 non-null  object\n",
            " 1   species      27956 non-null  object\n",
            " 2   predictionA  27956 non-null  object\n",
            " 3   predictionB  27956 non-null  object\n",
            " 4   predictionC  27956 non-null  object\n",
            " 5   predictionD  27956 non-null  object\n",
            " 6   predictionE  27956 non-null  object\n",
            " 7   predictionF  27956 non-null  object\n",
            " 8   predictionG  27956 non-null  object\n",
            " 9   predictionH  27956 non-null  object\n",
            " 10  predictionI  27956 non-null  object\n",
            " 11  predictionJ  27956 non-null  object\n",
            " 12  predictionK  27956 non-null  object\n",
            " 13  predictionL  27956 non-null  object\n",
            " 14  predictionM  27956 non-null  object\n",
            " 15  predictionN  27956 non-null  object\n",
            " 16  predictionO  27956 non-null  object\n",
            " 17  predictionP  27956 non-null  object\n",
            " 18  predictionQ  27956 non-null  object\n",
            " 19  predictionR  27956 non-null  object\n",
            " 20  predictionS  27956 non-null  object\n",
            " 21  predictionT  27956 non-null  object\n",
            " 22  predictionU  27956 non-null  object\n",
            " 23  predictionV  27956 non-null  object\n",
            " 24  predictionW  27956 non-null  object\n",
            " 25  predictionX  27956 non-null  object\n",
            " 26  predictionY  27956 non-null  object\n",
            " 27  predictionZ  27956 non-null  object\n",
            " 28  prediction[  27956 non-null  object\n",
            " 29  prediction\\  27956 non-null  object\n",
            " 30  prediction]  27956 non-null  object\n",
            " 31  prediction^  27956 non-null  object\n",
            " 32  predictions  27956 non-null  object\n",
            "dtypes: object(33)\n",
            "memory usage: 7.0+ MB\n"
          ]
        }
      ],
      "source": [
        "test.info()"
      ]
    },
    {
      "cell_type": "code",
      "execution_count": null,
      "metadata": {
        "execution": {
          "iopub.execute_input": "2024-12-22T02:03:05.94316Z",
          "iopub.status.busy": "2024-12-22T02:03:05.942829Z",
          "iopub.status.idle": "2024-12-22T02:03:06.395024Z",
          "shell.execute_reply": "2024-12-22T02:03:06.39398Z",
          "shell.execute_reply.started": "2024-12-22T02:03:05.943114Z"
        },
        "id": "O-bX7534NiFA",
        "trusted": true
      },
      "outputs": [],
      "source": [
        "test[['image','predictions']].to_csv('submission.csv',index=False)"
      ]
    },
    {
      "cell_type": "code",
      "execution_count": null,
      "metadata": {
        "execution": {
          "iopub.execute_input": "2024-12-22T02:03:06.396435Z",
          "iopub.status.busy": "2024-12-22T02:03:06.39621Z",
          "iopub.status.idle": "2024-12-22T02:03:06.467989Z",
          "shell.execute_reply": "2024-12-22T02:03:06.46713Z",
          "shell.execute_reply.started": "2024-12-22T02:03:06.396401Z"
        },
        "id": "vTZDuiJ5NiFA",
        "outputId": "63930fbe-7575-4ff4-b2e7-12726144a1a9",
        "trusted": true
      },
      "outputs": [
        {
          "data": {
            "text/plain": [
              "image          5786\n",
              "species        5786\n",
              "predictionA    5786\n",
              "predictionB    5786\n",
              "predictionC    5786\n",
              "predictionD    5786\n",
              "predictionE    5786\n",
              "predictionF    5786\n",
              "predictionG    5786\n",
              "predictionH    5786\n",
              "predictionI    5786\n",
              "predictionJ    5786\n",
              "predictionK    5786\n",
              "predictionL    5786\n",
              "predictionM    5786\n",
              "predictionN    5786\n",
              "predictionO    5786\n",
              "predictionP    5786\n",
              "predictionQ    5786\n",
              "predictionR    5786\n",
              "predictionS    5786\n",
              "predictionT    5786\n",
              "predictionU    5786\n",
              "predictionV    5786\n",
              "predictionW    5786\n",
              "predictionX    5786\n",
              "predictionY    5786\n",
              "predictionZ    5786\n",
              "prediction[    5786\n",
              "prediction\\    5786\n",
              "prediction]    5786\n",
              "prediction^    5786\n",
              "predictions    5786\n",
              "dtype: int64"
            ]
          },
          "execution_count": 16,
          "metadata": {},
          "output_type": "execute_result"
        }
      ],
      "source": [
        "test[test['predictions'].str[:3]=='new'].count()"
      ]
    }
  ],
  "metadata": {
    "colab": {
      "provenance": []
    },
    "kaggle": {
      "accelerator": "none",
      "dataSources": [
        {
          "databundleVersionId": 3171193,
          "sourceId": 22962,
          "sourceType": "competition"
        },
        {
          "datasetId": 1944264,
          "sourceId": 3485257,
          "sourceType": "datasetVersion"
        },
        {
          "sourceId": 93400220,
          "sourceType": "kernelVersion"
        }
      ],
      "dockerImageVersionId": 30162,
      "isGpuEnabled": false,
      "isInternetEnabled": true,
      "language": "python",
      "sourceType": "notebook"
    },
    "kernelspec": {
      "display_name": "Python 3",
      "language": "python",
      "name": "python3"
    },
    "language_info": {
      "codemirror_mode": {
        "name": "ipython",
        "version": 3
      },
      "file_extension": ".py",
      "mimetype": "text/x-python",
      "name": "python",
      "nbconvert_exporter": "python",
      "pygments_lexer": "ipython3",
      "version": "3.7.12"
    }
  },
  "nbformat": 4,
  "nbformat_minor": 0
}
